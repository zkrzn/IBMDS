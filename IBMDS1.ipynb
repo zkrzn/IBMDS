{
 "cells": [
  {
   "cell_type": "markdown",
   "metadata": {},
   "source": [
    "# My Jupyter Notebook NOT on IBM Watson Studio \n",
    "\n",
    "\n",
    "**No one** \n",
    "\n",
    "\n",
    "DATA SCIENTIST \n",
    "\n",
    "\n",
    "*I am interested in data science because it the sexiest job of 21th Century* \n",
    "\n",
    "\n",
    "### My Code below is for the hardest operations in mathematics 1+1"
   ]
  },
  {
   "cell_type": "code",
   "execution_count": 6,
   "metadata": {},
   "outputs": [
    {
     "name": "stdout",
     "output_type": "stream",
     "text": [
      "2\n",
      "4.0\n",
      "--- 0.0 seconds ---\n",
      "4.0\n",
      "--- 0.0 seconds ---\n"
     ]
    }
   ],
   "source": [
    "print(1+1)\n",
    "import math\n",
    "import time\n",
    "start_time=time.time()\n",
    "print(math.sqrt(16))\n",
    "print(\"--- %s seconds ---\" % (time.time() - start_time))\n",
    "start_time1=time.time()\n",
    "print(16**0.5)\n",
    "print(\"--- %s seconds ---\" % (time.time() - start_time1))\n"
   ]
  },
  {
   "cell_type": "code",
   "execution_count": null,
   "metadata": {},
   "outputs": [],
   "source": [
    "import scipy\n"
   ]
  },
  {
   "cell_type": "markdown",
   "metadata": {},
   "source": [
    "<a href=\"https://www.youtube.com/watch?v=gkTb9GP9lVI\n",
    "\" target=\"_blank\"><img src=\"http://img.youtube.com/vi/gkTb9GP9lVI/0.jpg\" \n",
    "alt=\"IMAGE ALT TEXT HERE\" width=\"240\" height=\"180\" border=\"10\" /></a>"
   ]
  },
  {
   "cell_type": "markdown",
   "metadata": {},
   "source": [
    "<dl>\n",
    "  <dt>Definition list</dt>\n",
    "  <dd>Is something people use sometimes.</dd>\n",
    "\n",
    "  <dt>Markdown in HTML</dt>\n",
    "  <dd>Does *not* work **very** well. Use HTML <em>tags</em>.</dd>\n",
    "</dl>"
   ]
  },
  {
   "cell_type": "markdown",
   "metadata": {},
   "source": [
    "Three or more...\n",
    "\n",
    "---\n",
    "\n",
    "Hyphens\n",
    "\n",
    "***\n",
    "\n",
    "Asterisks\n",
    "\n",
    "___\n",
    "\n",
    "Underscores"
   ]
  }
 ],
 "metadata": {
  "kernelspec": {
   "display_name": "Python 3.8.3 32-bit",
   "language": "python",
   "name": "python3"
  },
  "language_info": {
   "codemirror_mode": {
    "name": "ipython",
    "version": 3
   },
   "file_extension": ".py",
   "mimetype": "text/x-python",
   "name": "python",
   "nbconvert_exporter": "python",
   "pygments_lexer": "ipython3",
   "version": "3.8.3"
  },
  "orig_nbformat": 4,
  "vscode": {
   "interpreter": {
    "hash": "298c87bb46c0ece7abcceec7d9fcd87435e079314f0dee0953f90f5b1b40d0e0"
   }
  }
 },
 "nbformat": 4,
 "nbformat_minor": 2
}
